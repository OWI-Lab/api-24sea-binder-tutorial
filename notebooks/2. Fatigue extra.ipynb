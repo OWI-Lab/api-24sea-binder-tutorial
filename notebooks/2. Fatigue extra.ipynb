{
 "cells": [
  {
   "cell_type": "code",
   "execution_count": null,
   "id": "1678b430",
   "metadata": {},
   "outputs": [],
   "source": [
    "%load_ext autoreload\n",
    "%autoreload 2\n",
    "%config InteractiveShell.ast_node_interactivity = 'all'\n",
    "%config Completer.use_jedi = False"
   ]
  },
  {
   "cell_type": "code",
   "execution_count": null,
   "id": "9b628823",
   "metadata": {},
   "outputs": [],
   "source": [
    "%%html\n",
    "<style>\n",
    "@import url('https://fonts.cdnfonts.com/css/fantasque-sans-mono');\n",
    "@import url('https://fonts.googleapis.com/css2?family=Victor+Mono:ital,wght@0,100..700;1,100..700&display=swap');\n",
    "/* Any CSS style can go in here. */\n",
    ".dataframe th {\n",
    "  font-size: 11px;\n",
    "  font-weight: 700;\n",
    "  font-style: italic;\n",
    "  font-family: 'Victor Mono', monospace;\n",
    "}\n",
    "\n",
    ".dataframe td {\n",
    "  font-size: 10px;\n",
    "  font-weight: 400;\n",
    "  font-family: 'Victor Mono', monospace;\n",
    "}\n",
    "\n",
    ".output_html pre {\n",
    "  font-family: 'Victor Mono', monospace !important;\n",
    "}\n",
    "</style>\n"
   ]
  },
  {
   "cell_type": "code",
   "execution_count": null,
   "id": "1a456753",
   "metadata": {
    "lines_to_next_cell": 2
   },
   "outputs": [],
   "source": [
    "# **Package Imports**\n",
    "# - From the Python Standard Library\n",
    "import logging\n",
    "import os\n",
    "import sys\n",
    "\n",
    "# - From third party libraries\n",
    "import api_24sea\n",
    "import dotenv\n",
    "import matplotlib.pyplot as plt\n",
    "import pandas as pd\n",
    "from api_24sea.datasignals import fatigue\n"
   ]
  },
  {
   "cell_type": "code",
   "execution_count": null,
   "id": "de246ab6",
   "metadata": {},
   "outputs": [],
   "source": [
    "# **Package Versions**\n",
    "print(f\"📂 \\033[1m\\033[93mWorking Folder:     \\033[0;34;4m{os.getcwd()}\\033[0m\")\n",
    "print(f\"🐼 \\033[1m\\033[93mPandas Version:     \\033[0;3m{pd.__version__}\\033[0m\")\n",
    "print(f\"⚡  \\033[1m\\033[93mSwifter Version:    \\033[0;3m{fatigue.S.swifter.__version__}\\033[0m\")\n",
    "print(f\"💪 \\033[1m\\033[93mPy-fatigue Version: \\033[0;3m{fatigue.S.py_fatigue.__version__}\\033[0m\")\n",
    "print(f\"🌊 \\033[1m\\033[93mApi-24SEA Version:  \\033[0;3m{api_24sea.__version__}\\033[0m\")\n",
    "print(f\"🐍 \\033[1m\\033[93mPython Version:     \\033[0;3m{sys.version}\\033[0m\")\n",
    "# **Notebook Configuration**\n",
    "logger = logging.getLogger()\n",
    "logger.setLevel(logging.INFO)\n"
   ]
  },
  {
   "cell_type": "code",
   "execution_count": null,
   "id": "1de5f80f",
   "metadata": {},
   "outputs": [],
   "source": [
    "# **Load Environment Variables from .env File**\n",
    "_ = dotenv.load_dotenv(dotenv.find_dotenv())\n",
    "if _:\n",
    "    print(\"Environment Variables Loaded Successfully\")\n",
    "    print(os.getenv(\"API_24SEA_USERNAME\"))\n",
    "    # print(os.getenv(\"24SEA_API_PASSWORD\"))\n",
    "else:\n",
    "    raise Exception(\"Environment Variables Not Loaded\")\n"
   ]
  },
  {
   "cell_type": "code",
   "execution_count": null,
   "id": "ac73bdd9",
   "metadata": {},
   "outputs": [],
   "source": [
    "# **DataFrame initialization**\n",
    "# The empty DataFrame is created beforehand because it needs to authenticate\n",
    "# with the API to fetch the data.\n",
    "df = pd.DataFrame()\n"
   ]
  },
  {
   "cell_type": "markdown",
   "id": "f6d52b6e",
   "metadata": {},
   "source": [
    "#### Metrics overview\n",
    "\n",
    "The metrics overview table is a summary of the metrics that you can access through the 24SEA API. The table provides a brief description of each metric, the data type, unit of measurement, and some additional fields that can be used to filter the metrics.\n"
   ]
  },
  {
   "cell_type": "code",
   "execution_count": null,
   "id": "4ca1bd86",
   "metadata": {},
   "outputs": [],
   "source": [
    "# **Metrics Overview**\n",
    "# The metrics overview is a summary of the metrics available in the API.\n",
    "m_o = df.datasignals._DataSignals__api.metrics_overview\n",
    "m_o.head(10)\n"
   ]
  },
  {
   "cell_type": "markdown",
   "id": "a98c6f54",
   "metadata": {},
   "source": [
    "#### Data retrieval step\n"
   ]
  },
  {
   "cell_type": "code",
   "execution_count": null,
   "id": "0e6df253",
   "metadata": {},
   "outputs": [],
   "source": [
    "# **Data Retrieval**\n",
    "\n",
    "sites = [\"belwind\"]\n",
    "\n",
    "locations = m_o[m_o[\"site\"].str.lower() == \"belwind\"][\"location\"].unique().tolist()\n",
    "\n",
    "metrics = [\"cc c01\", \"dem\"]\n",
    "\n",
    "# start_timestamp = \"2024-01-01T00:00:00Z\"\n",
    "# end_timestamp = \"2025-01-01T01:00:00Z\"\n",
    "# See https://pypi.org/project/shorthand-datetime package for more information\n",
    "# on how to use shorthand datetime strings to set start and end timestamps.\n",
    "start_timestamp = \"now-1Y/M\"\n",
    "end_timestamp = \"now/M\"\n",
    "\n",
    "df.datasignals.get_data(\n",
    "    sites, locations, metrics, start_timestamp, end_timestamp\n",
    ")"
   ]
  },
  {
   "cell_type": "code",
   "execution_count": null,
   "id": "1ce699dd",
   "metadata": {},
   "outputs": [],
   "source": [
    "import rich\n",
    "# Count percentage  of none in each column\n",
    "none_perc_dict = {}\n",
    "for col in df.columns:\n",
    "    none_perc_dict[col] = f\"{round(df[col].isna().sum() / len(df) * 100, 2)}%\"\n",
    "    \n",
    "rich.print_json(data=none_perc_dict)\n"
   ]
  },
  {
   "cell_type": "code",
   "execution_count": null,
   "id": "d2964096",
   "metadata": {},
   "outputs": [],
   "source": [
    "none_perc_dict"
   ]
  },
  {
   "cell_type": "code",
   "execution_count": null,
   "id": "8c0618b7",
   "metadata": {},
   "outputs": [],
   "source": [
    "# Print one 10-minute cycle-count dictionary as an example\n",
    "rich.print_json(df[\"CC_BB_C01_TP_SG_LAT019_Mtn\"].iloc[0])"
   ]
  },
  {
   "cell_type": "markdown",
   "id": "65ff4d5e",
   "metadata": {},
   "source": [
    "Convert 10-minute cycle-count dictionaries to `py-fatigue CycleCount` objects."
   ]
  },
  {
   "cell_type": "code",
   "execution_count": null,
   "id": "3b91a098",
   "metadata": {},
   "outputs": [],
   "source": [
    "df.fatigue.cycle_counts_to_objects()"
   ]
  },
  {
   "cell_type": "code",
   "execution_count": null,
   "id": "940ef025",
   "metadata": {},
   "outputs": [],
   "source": [
    "# For each column starting with CC_ in df, concatenate the stress_range and count_cycle arrays of every row\n",
    "# into two very long arrays, and then plot the stress_range vs count_cycle as scatter plot.\n",
    "\n",
    "cc_cols = [col for col in df.columns if col.startswith(\"CC_\")]\n",
    "from collections import defaultdict\n",
    "# Initialize the defaultdict of dictionaries\n",
    "cc_dict = defaultdict(lambda: defaultdict(list))\n",
    "for col in cc_cols:\n",
    "    cc_dict[col] = {\n",
    "        'timestamp': [],\n",
    "        'stress_range': [],\n",
    "        'count_cycle': []\n",
    "    }\n",
    "\n",
    "print(cc_dict)\n",
    "\n",
    "for idx, row in df.dropna.iterrows():\n",
    "    for col in cc_cols:\n",
    "        cc_cols[]\n",
    "        cc_dict[col]['stress_range'].extend(row[col].stress_range)\n",
    "        cc_dict[col]['count_cycle'].extend(row[col].count_cycle)\n"
   ]
  },
  {
   "cell_type": "code",
   "execution_count": null,
   "id": "4a7ffbec",
   "metadata": {
    "lines_to_next_cell": 2
   },
   "outputs": [],
   "source": [
    "# **Data Display**\n",
    "if hasattr(pd.DataFrame, \"to_markdown\"):\n",
    "    print(df.head().to_markdown())\n",
    "else:\n",
    "    print(\"Install tabulate package to use to_markdown()\")"
   ]
  },
  {
   "cell_type": "code",
   "execution_count": null,
   "id": "25dd548f",
   "metadata": {},
   "outputs": [],
   "source": [
    "dct = df.datasignals.as_dict()"
   ]
  },
  {
   "cell_type": "code",
   "execution_count": null,
   "id": "0b0bd381",
   "metadata": {},
   "outputs": [],
   "source": [
    "from api_24sea.core import to_star_schema\n",
    "\n",
    "star_schema = to_star_schema(df, m_o)"
   ]
  },
  {
   "cell_type": "code",
   "execution_count": null,
   "id": "a4fd52ed",
   "metadata": {},
   "outputs": [],
   "source": [
    "star_schema[\"FactData\"]"
   ]
  },
  {
   "cell_type": "code",
   "execution_count": null,
   "id": "5eb004db",
   "metadata": {},
   "outputs": [],
   "source": [
    "# Split the metric_id column by \"_\"\n",
    "split_metric_id = star_schema['FactData']['metric_id'].str.split('_')\n",
    "\n",
    "# Extract the necessary parts\n",
    "part_0 = split_metric_id.str[0]\n",
    "part_1 = split_metric_id.str[1:].str.join('_')\n",
    "\n",
    "# Split the location column into location_short_id and site_short_id\n",
    "star_schema['FactData']['location_short_id'] = star_schema['FactData']['location'].str[:2]\n",
    "star_schema['FactData']['site_short_id'] = star_schema['FactData']['location'].str[2:]\n",
    "\n",
    "# # Reformulate the metric_id column\n",
    "star_schema['FactData']['metric_id_2'] = part_0 + '_' + star_schema['FactData']['location_short_id'] + '_' + star_schema['FactData']['site_short_id'] + '_' + part_1\n"
   ]
  },
  {
   "cell_type": "code",
   "execution_count": null,
   "id": "be80365b",
   "metadata": {},
   "outputs": [],
   "source": [
    "star_schema['FactData']"
   ]
  }
 ],
 "metadata": {
  "kernelspec": {
   "display_name": ".venv",
   "language": "python",
   "name": "python3"
  },
  "language_info": {
   "codemirror_mode": {
    "name": "ipython",
    "version": 3
   },
   "file_extension": ".py",
   "mimetype": "text/x-python",
   "name": "python",
   "nbconvert_exporter": "python",
   "pygments_lexer": "ipython3",
   "version": "3.10.12"
  }
 },
 "nbformat": 4,
 "nbformat_minor": 5
}
